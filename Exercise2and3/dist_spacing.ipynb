{
 "cells": [
  {
   "cell_type": "code",
   "execution_count": 2,
   "metadata": {},
   "outputs": [],
   "source": [
    "#Disclaimer: This script, whose goal is to analyze the normal spacing distribution, has not been completed and optimized.\n",
    "#i still have to understand how to associate flags to the ASSIGNMENT #2 EX.2 program, so that i dont have\n",
    "# to modify the code to run the script both for the hermitian and for the real matrix. \n",
    "#The choice to add this file is due to the possibility of showing how i proceeded into the fitting and plotting part \n",
    "# of the exercise."
   ]
  },
  {
   "cell_type": "code",
   "execution_count": 3,
   "metadata": {},
   "outputs": [],
   "source": [
    "import numpy as np\n",
    "import subprocess\n",
    "import matplotlib.pyplot as plt\n",
    "from scipy.optimize import curve_fit\n",
    "import os"
   ]
  },
  {
   "cell_type": "code",
   "execution_count": 4,
   "metadata": {},
   "outputs": [],
   "source": [
    "mat_dim = 1000"
   ]
  },
  {
   "cell_type": "code",
   "execution_count": 5,
   "metadata": {},
   "outputs": [
    {
     "data": {
      "text/plain": [
       "CompletedProcess(args=['./Exercise2.out'], returncode=0, stdout='')"
      ]
     },
     "execution_count": 5,
     "metadata": {},
     "output_type": "execute_result"
    }
   ],
   "source": [
    "#reset files\n",
    "os.remove(\"./Normalized_Spacing.txt\")\n",
    "\n",
    "#runs the program n times.\n",
    "for i in range(40):\n",
    "    eigen = subprocess.run([\"./Exercise2.out\"], input=\"{}\".format(mat_dim), \n",
    "                        stdout=subprocess.PIPE, encoding=\"utf-8\")\n",
    "eigen"
   ]
  },
  {
   "cell_type": "code",
   "execution_count": 6,
   "metadata": {},
   "outputs": [
    {
     "data": {
      "text/plain": [
       "CompletedProcess(args=['./Exercise2.out'], returncode=0, stdout='')"
      ]
     },
     "execution_count": 6,
     "metadata": {},
     "output_type": "execute_result"
    }
   ],
   "source": [
    "#runs the program n times. in this case the logical variable \"diagonal\" has to be set to .true. in the FORTRAN CODE.\n",
    "os.remove(\"./Normalized_Spacing_random.txt\")\n",
    "mat_dim2 = 1000\n",
    "for i in range(40):\n",
    "    eigen = subprocess.run([\"./Exercise2.out\"], input=\"{}\".format(mat_dim2), \n",
    "                        stdout=subprocess.PIPE, encoding=\"utf-8\")\n",
    "eigen"
   ]
  },
  {
   "cell_type": "code",
   "execution_count": 8,
   "metadata": {},
   "outputs": [
    {
     "ename": "FileNotFoundError",
     "evalue": "Normalized_Spacing.txt not found.",
     "output_type": "error",
     "traceback": [
      "\u001b[0;31m---------------------------------------------------------------------------\u001b[0m",
      "\u001b[0;31mFileNotFoundError\u001b[0m                         Traceback (most recent call last)",
      "Cell \u001b[0;32mIn [8], line 2\u001b[0m\n\u001b[1;32m      1\u001b[0m \u001b[39m#Load saved data.\u001b[39;00m\n\u001b[0;32m----> 2\u001b[0m norm_spacing \u001b[39m=\u001b[39m np\u001b[39m.\u001b[39;49mloadtxt(\u001b[39m\"\u001b[39;49m\u001b[39mNormalized_Spacing.txt\u001b[39;49m\u001b[39m\"\u001b[39;49m, dtype \u001b[39m=\u001b[39;49m \u001b[39m\"\u001b[39;49m\u001b[39mfloat\u001b[39;49m\u001b[39m\"\u001b[39;49m)\n\u001b[1;32m      3\u001b[0m norm_spacing2 \u001b[39m=\u001b[39m np\u001b[39m.\u001b[39mloadtxt(\u001b[39m\"\u001b[39m\u001b[39mNormalized_Spacing_random.txt\u001b[39m\u001b[39m\"\u001b[39m, dtype \u001b[39m=\u001b[39m \u001b[39m\"\u001b[39m\u001b[39mfloat\u001b[39m\u001b[39m\"\u001b[39m)\n",
      "File \u001b[0;32m/usr/local/lib/python3.10/site-packages/numpy/lib/npyio.py:1318\u001b[0m, in \u001b[0;36mloadtxt\u001b[0;34m(fname, dtype, comments, delimiter, converters, skiprows, usecols, unpack, ndmin, encoding, max_rows, quotechar, like)\u001b[0m\n\u001b[1;32m   1315\u001b[0m \u001b[39mif\u001b[39;00m \u001b[39misinstance\u001b[39m(delimiter, \u001b[39mbytes\u001b[39m):\n\u001b[1;32m   1316\u001b[0m     delimiter \u001b[39m=\u001b[39m delimiter\u001b[39m.\u001b[39mdecode(\u001b[39m'\u001b[39m\u001b[39mlatin1\u001b[39m\u001b[39m'\u001b[39m)\n\u001b[0;32m-> 1318\u001b[0m arr \u001b[39m=\u001b[39m _read(fname, dtype\u001b[39m=\u001b[39;49mdtype, comment\u001b[39m=\u001b[39;49mcomment, delimiter\u001b[39m=\u001b[39;49mdelimiter,\n\u001b[1;32m   1319\u001b[0m             converters\u001b[39m=\u001b[39;49mconverters, skiplines\u001b[39m=\u001b[39;49mskiprows, usecols\u001b[39m=\u001b[39;49musecols,\n\u001b[1;32m   1320\u001b[0m             unpack\u001b[39m=\u001b[39;49munpack, ndmin\u001b[39m=\u001b[39;49mndmin, encoding\u001b[39m=\u001b[39;49mencoding,\n\u001b[1;32m   1321\u001b[0m             max_rows\u001b[39m=\u001b[39;49mmax_rows, quote\u001b[39m=\u001b[39;49mquotechar)\n\u001b[1;32m   1323\u001b[0m \u001b[39mreturn\u001b[39;00m arr\n",
      "File \u001b[0;32m/usr/local/lib/python3.10/site-packages/numpy/lib/npyio.py:955\u001b[0m, in \u001b[0;36m_read\u001b[0;34m(fname, delimiter, comment, quote, imaginary_unit, usecols, skiplines, max_rows, converters, ndmin, unpack, dtype, encoding)\u001b[0m\n\u001b[1;32m    953\u001b[0m     fname \u001b[39m=\u001b[39m os\u001b[39m.\u001b[39mfspath(fname)\n\u001b[1;32m    954\u001b[0m \u001b[39mif\u001b[39;00m \u001b[39misinstance\u001b[39m(fname, \u001b[39mstr\u001b[39m):\n\u001b[0;32m--> 955\u001b[0m     fh \u001b[39m=\u001b[39m np\u001b[39m.\u001b[39;49mlib\u001b[39m.\u001b[39;49m_datasource\u001b[39m.\u001b[39;49mopen(fname, \u001b[39m'\u001b[39;49m\u001b[39mrt\u001b[39;49m\u001b[39m'\u001b[39;49m, encoding\u001b[39m=\u001b[39;49mencoding)\n\u001b[1;32m    956\u001b[0m     \u001b[39mif\u001b[39;00m encoding \u001b[39mis\u001b[39;00m \u001b[39mNone\u001b[39;00m:\n\u001b[1;32m    957\u001b[0m         encoding \u001b[39m=\u001b[39m \u001b[39mgetattr\u001b[39m(fh, \u001b[39m'\u001b[39m\u001b[39mencoding\u001b[39m\u001b[39m'\u001b[39m, \u001b[39m'\u001b[39m\u001b[39mlatin1\u001b[39m\u001b[39m'\u001b[39m)\n",
      "File \u001b[0;32m/usr/local/lib/python3.10/site-packages/numpy/lib/_datasource.py:193\u001b[0m, in \u001b[0;36mopen\u001b[0;34m(path, mode, destpath, encoding, newline)\u001b[0m\n\u001b[1;32m    156\u001b[0m \u001b[39m\"\"\"\u001b[39;00m\n\u001b[1;32m    157\u001b[0m \u001b[39mOpen `path` with `mode` and return the file object.\u001b[39;00m\n\u001b[1;32m    158\u001b[0m \n\u001b[0;32m   (...)\u001b[0m\n\u001b[1;32m    189\u001b[0m \n\u001b[1;32m    190\u001b[0m \u001b[39m\"\"\"\u001b[39;00m\n\u001b[1;32m    192\u001b[0m ds \u001b[39m=\u001b[39m DataSource(destpath)\n\u001b[0;32m--> 193\u001b[0m \u001b[39mreturn\u001b[39;00m ds\u001b[39m.\u001b[39;49mopen(path, mode, encoding\u001b[39m=\u001b[39;49mencoding, newline\u001b[39m=\u001b[39;49mnewline)\n",
      "File \u001b[0;32m/usr/local/lib/python3.10/site-packages/numpy/lib/_datasource.py:533\u001b[0m, in \u001b[0;36mDataSource.open\u001b[0;34m(self, path, mode, encoding, newline)\u001b[0m\n\u001b[1;32m    530\u001b[0m     \u001b[39mreturn\u001b[39;00m _file_openers[ext](found, mode\u001b[39m=\u001b[39mmode,\n\u001b[1;32m    531\u001b[0m                               encoding\u001b[39m=\u001b[39mencoding, newline\u001b[39m=\u001b[39mnewline)\n\u001b[1;32m    532\u001b[0m \u001b[39melse\u001b[39;00m:\n\u001b[0;32m--> 533\u001b[0m     \u001b[39mraise\u001b[39;00m \u001b[39mFileNotFoundError\u001b[39;00m(\u001b[39mf\u001b[39m\u001b[39m\"\u001b[39m\u001b[39m{\u001b[39;00mpath\u001b[39m}\u001b[39;00m\u001b[39m not found.\u001b[39m\u001b[39m\"\u001b[39m)\n",
      "\u001b[0;31mFileNotFoundError\u001b[0m: Normalized_Spacing.txt not found."
     ]
    }
   ],
   "source": [
    "#Load saved data.\n",
    "#first txt file could have been deleted, or not yet generated by the Fortran executable file. (This could stop the fortran script).\n",
    "#Changing from the first and the second we get the 2 different distributions.\n",
    "norm_spacing = np.loadtxt(\"Normalized_Spacing.txt\", dtype = \"float\")\n",
    "norm_spacing2 = np.loadtxt(\"Normalized_Spacing_random.txt\", dtype = \"float\")\n",
    "#print(norm_spacing)"
   ]
  },
  {
   "cell_type": "code",
   "execution_count": null,
   "metadata": {},
   "outputs": [],
   "source": [
    "def distribution_model(x, a, b, c, d):\n",
    "        return a * x ** b * np.exp(c * x ** d)"
   ]
  },
  {
   "cell_type": "code",
   "execution_count": null,
   "metadata": {},
   "outputs": [
    {
     "name": "stderr",
     "output_type": "stream",
     "text": [
      "/var/folders/7b/vhzlkjt92hsbp4cqg1zkxv5m0000gn/T/ipykernel_9403/4234226278.py:2: RuntimeWarning: overflow encountered in exp\n",
      "  return a * x ** b * np.exp(c * x ** d)\n",
      "/var/folders/7b/vhzlkjt92hsbp4cqg1zkxv5m0000gn/T/ipykernel_9403/3789881511.py:11: RuntimeWarning: invalid value encountered in sqrt\n",
      "  err = np.sqrt(pcov)\n"
     ]
    },
    {
     "data": {
      "image/png": "[encoded data removed]",
      "text/plain": [
       "<Figure size 640x480 with 1 Axes>"
      ]
     },
     "metadata": {},
     "output_type": "display_data"
    }
   ],
   "source": [
    "#plot of hermitian normalized spacing distribution\n",
    "binning = 300\n",
    "\n",
    "n, bins, patches = plt.hist(norm_spacing, binning, density=False, facecolor='b', alpha=0.79)\n",
    "\n",
    "bin_center = bins[:-1] + np.diff(bins) / 2\n",
    "x_fit = np.linspace(bins[0], bins[-1], 1000)\n",
    "\n",
    "popt, pcov = curve_fit(distribution_model, bin_center, n, p0 = [5000., 1., -2.6, 10.])\n",
    "err = np.sqrt(pcov)\n",
    "\n",
    "plt.plot(x_fit, distribution_model(x_fit, *popt), 'dodgerblue', label = \"$y = ax^b \\ e^{cx^d}$\")\n",
    "plt.plot([], [], ' ', label=(f\"a = {popt[0]:5.0f} \\u00B1 {err[0, 0]:5.0f}\"))\n",
    "plt.plot([], [], ' ', label=(f\"b = {popt[1]:5.2f} \\u00B1 {err[1, 1]:5.2f}\"))\n",
    "plt.plot([], [], ' ', label=(f\"c = {popt[2]:5.2f} \\u00B1 {err[2, 2]:5.2f}\"))\n",
    "plt.plot([], [], ' ', label=(f\"d = {popt[3]:5.2f} \\u00B1 {err[3, 3]:5.2f}\"))\n",
    "plt.legend(loc='best')\n",
    "\n",
    "plt.savefig(f'Plots/fit_histo.png')\n",
    "plt.show()#; suppress plot, unecpectly\n",
    "plt.ioff()\n",
    "    \n",
    "plt.close()"
   ]
  },
  {
   "cell_type": "code",
   "execution_count": null,
   "metadata": {},
   "outputs": [
    {
     "ename": "NameError",
     "evalue": "name 'plt' is not defined",
     "output_type": "error",
     "traceback": [
      "\u001b[0;31m---------------------------------------------------------------------------\u001b[0m",
      "\u001b[0;31mNameError\u001b[0m                                 Traceback (most recent call last)",
      "Cell \u001b[0;32mIn [1], line 2\u001b[0m\n\u001b[1;32m      1\u001b[0m \u001b[39m#plot of real diagonal matrix - normalized spacing distribution\u001b[39;00m\n\u001b[0;32m----> 2\u001b[0m n, bins, patches \u001b[39m=\u001b[39m plt\u001b[39m.\u001b[39mhist(norm_spacing2, \u001b[39m400\u001b[39m, density\u001b[39m=\u001b[39m\u001b[39mFalse\u001b[39;00m, facecolor\u001b[39m=\u001b[39m\u001b[39m'\u001b[39m\u001b[39mr\u001b[39m\u001b[39m'\u001b[39m,  alpha \u001b[39m=\u001b[39m \u001b[39m0.7\u001b[39m, normed\u001b[39m=\u001b[39m\u001b[39m1\u001b[39m)\n\u001b[1;32m      3\u001b[0m bin_center \u001b[39m=\u001b[39m bins[:\u001b[39m-\u001b[39m\u001b[39m1\u001b[39m] \u001b[39m+\u001b[39m np\u001b[39m.\u001b[39mdiff(bins) \u001b[39m/\u001b[39m \u001b[39m2\u001b[39m\n\u001b[1;32m      4\u001b[0m x_fit \u001b[39m=\u001b[39m np\u001b[39m.\u001b[39mlinspace(bins[\u001b[39m0\u001b[39m], bins[\u001b[39m-\u001b[39m\u001b[39m1\u001b[39m], \u001b[39m1000\u001b[39m)\n",
      "\u001b[0;31mNameError\u001b[0m: name 'plt' is not defined"
     ]
    }
   ],
   "source": [
    "#plot of real diagonal matrix - normalized spacing distribution\n",
    "n, bins, patches = plt.hist(norm_spacing2, 400, density=False, facecolor='r',  alpha = 0.7, normed=1)\n",
    "bin_center = bins[:-1] + np.diff(bins) / 2\n",
    "x_fit = np.linspace(bins[0], bins[-1], 1000)\n",
    "popt2, pcov2 = curve_fit(distribution_model, bin_center, n, p0 = [1000., 0., -1., 1.])\n",
    "err2 = np.sqrt(pcov2)\n",
    "\n",
    "plt.plot(x_fit, distribution_model(x_fit, *popt2), 'tomato', label = \"$y = ax^b \\ e^{cx^d}$\")\n",
    "plt.plot([], [], ' ', label=(f\"a = {popt2[0]:5.0f} \\u00B1 {err2[0, 0]:5.0f}\"))\n",
    "plt.plot([], [], ' ', label=(f\"b = {popt2[1]:5.2f} \\u00B1 {err2[1, 1]:5.3f}\"))\n",
    "plt.plot([], [], ' ', label=(f\"c = {popt2[2]:5.2f} \\u00B1 {err2[2, 2]:5.2f}\"))\n",
    "plt.plot([], [], ' ', label=(f\"d = {popt2[3]:5.2f} \\u00B1 {err2[3, 3]:5.3f}\"))\n",
    "plt.legend(loc='best')\n",
    "\n",
    "plt.savefig(f'Plots/fit_histo2.png')\n",
    "plt.show()#; suppress plot, unecpectly\n",
    "plt.ioff()\n",
    "    \n",
    "plt.close()\n",
    "\n",
    "err2"
   ]
  }
 ],
 "metadata": {
  "kernelspec": {
   "display_name": "Python 3.10.8 64-bit",
   "language": "python",
   "name": "python3"
  },
  "language_info": {
   "codemirror_mode": {
    "name": "ipython",
    "version": 3
   },
   "file_extension": ".py",
   "mimetype": "text/x-python",
   "name": "python",
   "nbconvert_exporter": "python",
   "pygments_lexer": "ipython3",
   "version": "3.10.8"
  },
  "orig_nbformat": 4,
  "vscode": {
   "interpreter": {
    "hash": "949777d72b0d2535278d3dc13498b2535136f6dfe0678499012e853ee9abcab1"
   }
  }
 },
 "nbformat": 4,
 "nbformat_minor": 2
}
